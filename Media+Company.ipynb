{
  "nbformat": 4,
  "nbformat_minor": 0,
  "metadata": {
    "kernelspec": {
      "display_name": "Python 3",
      "language": "python",
      "name": "python3"
    },
    "language_info": {
      "codemirror_mode": {
        "name": "ipython",
        "version": 3
      },
      "file_extension": ".py",
      "mimetype": "text/x-python",
      "name": "python",
      "nbconvert_exporter": "python",
      "pygments_lexer": "ipython3",
      "version": "3.7.4"
    },
    "colab": {
      "name": "Media+Company.ipynb",
      "provenance": [],
      "toc_visible": true,
      "include_colab_link": true
    }
  },
  "cells": [
    {
      "cell_type": "markdown",
      "metadata": {
        "id": "view-in-github",
        "colab_type": "text"
      },
      "source": [
        "<a href=\"https://colab.research.google.com/github/hassantariq64/crud/blob/master/Media%2BCompany.ipynb\" target=\"_parent\"><img src=\"https://colab.research.google.com/assets/colab-badge.svg\" alt=\"Open In Colab\"/></a>"
      ]
    },
    {
      "cell_type": "markdown",
      "metadata": {
        "id": "5EapultvI8HU",
        "colab_type": "text"
      },
      "source": [
        "## Media Company Case Study"
      ]
    },
    {
      "cell_type": "markdown",
      "metadata": {
        "id": "MgugE4wwI8HW",
        "colab_type": "text"
      },
      "source": [
        "Problem Statement: A digital media company (similar to Voot, Hotstar, Netflix, etc.) had launched a show. Initially, the show got a good response, but then witnessed a decline in viewership. The company wants to figure out what went wrong."
      ]
    },
    {
      "cell_type": "code",
      "metadata": {
        "id": "hRPVlS1WI8HX",
        "colab_type": "code",
        "colab": {}
      },
      "source": [
        "# Importing all required packages\n",
        "import numpy as np\n",
        "import pandas as pd\n",
        "import matplotlib.pyplot as plt\n",
        "import seaborn as sns\n",
        "%matplotlib inline"
      ],
      "execution_count": 46,
      "outputs": []
    },
    {
      "cell_type": "code",
      "metadata": {
        "id": "s0gr_IZ3I8Hc",
        "colab_type": "code",
        "colab": {}
      },
      "source": [
        "#Importing dataset\n",
        "media = pd.read_csv('mediacompany.csv')\n",
        "media = media.drop('Unnamed: 7',axis = 1)"
      ],
      "execution_count": 47,
      "outputs": []
    },
    {
      "cell_type": "code",
      "metadata": {
        "id": "kFE7qQ28I8Hg",
        "colab_type": "code",
        "colab": {
          "base_uri": "https://localhost:8080/",
          "height": 204
        },
        "outputId": "bbc9f661-9f3e-46cf-8b34-24f9d43f2cb5"
      },
      "source": [
        "#Let's explore the top 5 rows\n",
        "media.head()"
      ],
      "execution_count": 48,
      "outputs": [
        {
          "output_type": "execute_result",
          "data": {
            "text/html": [
              "<div>\n",
              "<style scoped>\n",
              "    .dataframe tbody tr th:only-of-type {\n",
              "        vertical-align: middle;\n",
              "    }\n",
              "\n",
              "    .dataframe tbody tr th {\n",
              "        vertical-align: top;\n",
              "    }\n",
              "\n",
              "    .dataframe thead th {\n",
              "        text-align: right;\n",
              "    }\n",
              "</style>\n",
              "<table border=\"1\" class=\"dataframe\">\n",
              "  <thead>\n",
              "    <tr style=\"text-align: right;\">\n",
              "      <th></th>\n",
              "      <th>Date</th>\n",
              "      <th>Views_show</th>\n",
              "      <th>Visitors</th>\n",
              "      <th>Views_platform</th>\n",
              "      <th>Ad_impression</th>\n",
              "      <th>Cricket_match_india</th>\n",
              "      <th>Character_A</th>\n",
              "    </tr>\n",
              "  </thead>\n",
              "  <tbody>\n",
              "    <tr>\n",
              "      <th>0</th>\n",
              "      <td>3/1/2017</td>\n",
              "      <td>183738</td>\n",
              "      <td>1260228</td>\n",
              "      <td>1706478</td>\n",
              "      <td>1060860448</td>\n",
              "      <td>0</td>\n",
              "      <td>0</td>\n",
              "    </tr>\n",
              "    <tr>\n",
              "      <th>1</th>\n",
              "      <td>3/2/2017</td>\n",
              "      <td>193763</td>\n",
              "      <td>1270561</td>\n",
              "      <td>1690727</td>\n",
              "      <td>1031846645</td>\n",
              "      <td>0</td>\n",
              "      <td>0</td>\n",
              "    </tr>\n",
              "    <tr>\n",
              "      <th>2</th>\n",
              "      <td>3/3/2017</td>\n",
              "      <td>210479</td>\n",
              "      <td>1248183</td>\n",
              "      <td>1726157</td>\n",
              "      <td>1010867575</td>\n",
              "      <td>0</td>\n",
              "      <td>0</td>\n",
              "    </tr>\n",
              "    <tr>\n",
              "      <th>3</th>\n",
              "      <td>3/4/2017</td>\n",
              "      <td>240061</td>\n",
              "      <td>1492913</td>\n",
              "      <td>1855353</td>\n",
              "      <td>1079194579</td>\n",
              "      <td>1</td>\n",
              "      <td>0</td>\n",
              "    </tr>\n",
              "    <tr>\n",
              "      <th>4</th>\n",
              "      <td>3/5/2017</td>\n",
              "      <td>446314</td>\n",
              "      <td>1594712</td>\n",
              "      <td>2041418</td>\n",
              "      <td>1357736987</td>\n",
              "      <td>0</td>\n",
              "      <td>0</td>\n",
              "    </tr>\n",
              "  </tbody>\n",
              "</table>\n",
              "</div>"
            ],
            "text/plain": [
              "       Date  Views_show  ...  Cricket_match_india  Character_A\n",
              "0  3/1/2017      183738  ...                    0            0\n",
              "1  3/2/2017      193763  ...                    0            0\n",
              "2  3/3/2017      210479  ...                    0            0\n",
              "3  3/4/2017      240061  ...                    1            0\n",
              "4  3/5/2017      446314  ...                    0            0\n",
              "\n",
              "[5 rows x 7 columns]"
            ]
          },
          "metadata": {
            "tags": []
          },
          "execution_count": 48
        }
      ]
    },
    {
      "cell_type": "code",
      "metadata": {
        "id": "IoAXi2pfI8Hk",
        "colab_type": "code",
        "colab": {}
      },
      "source": [
        "# Converting date to Pandas datetime format\n",
        "media['Date'] = pd.to_datetime(media['Date'])\n"
      ],
      "execution_count": 49,
      "outputs": []
    },
    {
      "cell_type": "code",
      "metadata": {
        "id": "2erZpYmpI8Hy",
        "colab_type": "code",
        "colab": {
          "base_uri": "https://localhost:8080/",
          "height": 204
        },
        "outputId": "24de5831-757b-4234-c786-1394c4e6026f"
      },
      "source": [
        "media.head()"
      ],
      "execution_count": 50,
      "outputs": [
        {
          "output_type": "execute_result",
          "data": {
            "text/html": [
              "<div>\n",
              "<style scoped>\n",
              "    .dataframe tbody tr th:only-of-type {\n",
              "        vertical-align: middle;\n",
              "    }\n",
              "\n",
              "    .dataframe tbody tr th {\n",
              "        vertical-align: top;\n",
              "    }\n",
              "\n",
              "    .dataframe thead th {\n",
              "        text-align: right;\n",
              "    }\n",
              "</style>\n",
              "<table border=\"1\" class=\"dataframe\">\n",
              "  <thead>\n",
              "    <tr style=\"text-align: right;\">\n",
              "      <th></th>\n",
              "      <th>Date</th>\n",
              "      <th>Views_show</th>\n",
              "      <th>Visitors</th>\n",
              "      <th>Views_platform</th>\n",
              "      <th>Ad_impression</th>\n",
              "      <th>Cricket_match_india</th>\n",
              "      <th>Character_A</th>\n",
              "    </tr>\n",
              "  </thead>\n",
              "  <tbody>\n",
              "    <tr>\n",
              "      <th>0</th>\n",
              "      <td>2017-03-01</td>\n",
              "      <td>183738</td>\n",
              "      <td>1260228</td>\n",
              "      <td>1706478</td>\n",
              "      <td>1060860448</td>\n",
              "      <td>0</td>\n",
              "      <td>0</td>\n",
              "    </tr>\n",
              "    <tr>\n",
              "      <th>1</th>\n",
              "      <td>2017-03-02</td>\n",
              "      <td>193763</td>\n",
              "      <td>1270561</td>\n",
              "      <td>1690727</td>\n",
              "      <td>1031846645</td>\n",
              "      <td>0</td>\n",
              "      <td>0</td>\n",
              "    </tr>\n",
              "    <tr>\n",
              "      <th>2</th>\n",
              "      <td>2017-03-03</td>\n",
              "      <td>210479</td>\n",
              "      <td>1248183</td>\n",
              "      <td>1726157</td>\n",
              "      <td>1010867575</td>\n",
              "      <td>0</td>\n",
              "      <td>0</td>\n",
              "    </tr>\n",
              "    <tr>\n",
              "      <th>3</th>\n",
              "      <td>2017-03-04</td>\n",
              "      <td>240061</td>\n",
              "      <td>1492913</td>\n",
              "      <td>1855353</td>\n",
              "      <td>1079194579</td>\n",
              "      <td>1</td>\n",
              "      <td>0</td>\n",
              "    </tr>\n",
              "    <tr>\n",
              "      <th>4</th>\n",
              "      <td>2017-03-05</td>\n",
              "      <td>446314</td>\n",
              "      <td>1594712</td>\n",
              "      <td>2041418</td>\n",
              "      <td>1357736987</td>\n",
              "      <td>0</td>\n",
              "      <td>0</td>\n",
              "    </tr>\n",
              "  </tbody>\n",
              "</table>\n",
              "</div>"
            ],
            "text/plain": [
              "        Date  Views_show  ...  Cricket_match_india  Character_A\n",
              "0 2017-03-01      183738  ...                    0            0\n",
              "1 2017-03-02      193763  ...                    0            0\n",
              "2 2017-03-03      210479  ...                    0            0\n",
              "3 2017-03-04      240061  ...                    1            0\n",
              "4 2017-03-05      446314  ...                    0            0\n",
              "\n",
              "[5 rows x 7 columns]"
            ]
          },
          "metadata": {
            "tags": []
          },
          "execution_count": 50
        }
      ]
    },
    {
      "cell_type": "code",
      "metadata": {
        "id": "y5SH3eW2I8H7",
        "colab_type": "code",
        "colab": {}
      },
      "source": [
        "from datetime import date\n",
        "\n",
        "media['day']= media.Date\n"
      ],
      "execution_count": 60,
      "outputs": []
    },
    {
      "cell_type": "code",
      "metadata": {
        "id": "WIChhFtrI8IA",
        "colab_type": "code",
        "colab": {
          "base_uri": "https://localhost:8080/",
          "height": 204
        },
        "outputId": "031356b5-fdc6-43ac-e1d7-55c2f85b3562"
      },
      "source": [
        "media.head()"
      ],
      "execution_count": 61,
      "outputs": [
        {
          "output_type": "execute_result",
          "data": {
            "text/html": [
              "<div>\n",
              "<style scoped>\n",
              "    .dataframe tbody tr th:only-of-type {\n",
              "        vertical-align: middle;\n",
              "    }\n",
              "\n",
              "    .dataframe tbody tr th {\n",
              "        vertical-align: top;\n",
              "    }\n",
              "\n",
              "    .dataframe thead th {\n",
              "        text-align: right;\n",
              "    }\n",
              "</style>\n",
              "<table border=\"1\" class=\"dataframe\">\n",
              "  <thead>\n",
              "    <tr style=\"text-align: right;\">\n",
              "      <th></th>\n",
              "      <th>Date</th>\n",
              "      <th>Views_show</th>\n",
              "      <th>Visitors</th>\n",
              "      <th>Views_platform</th>\n",
              "      <th>Ad_impression</th>\n",
              "      <th>Cricket_match_india</th>\n",
              "      <th>Character_A</th>\n",
              "      <th>day</th>\n",
              "      <th>weekday</th>\n",
              "    </tr>\n",
              "  </thead>\n",
              "  <tbody>\n",
              "    <tr>\n",
              "      <th>0</th>\n",
              "      <td>2017-03-01</td>\n",
              "      <td>183738</td>\n",
              "      <td>1260228</td>\n",
              "      <td>1706478</td>\n",
              "      <td>1060860448</td>\n",
              "      <td>0</td>\n",
              "      <td>0</td>\n",
              "      <td>2017-03-01</td>\n",
              "      <td>2</td>\n",
              "    </tr>\n",
              "    <tr>\n",
              "      <th>1</th>\n",
              "      <td>2017-03-02</td>\n",
              "      <td>193763</td>\n",
              "      <td>1270561</td>\n",
              "      <td>1690727</td>\n",
              "      <td>1031846645</td>\n",
              "      <td>0</td>\n",
              "      <td>0</td>\n",
              "      <td>2017-03-02</td>\n",
              "      <td>2</td>\n",
              "    </tr>\n",
              "    <tr>\n",
              "      <th>2</th>\n",
              "      <td>2017-03-03</td>\n",
              "      <td>210479</td>\n",
              "      <td>1248183</td>\n",
              "      <td>1726157</td>\n",
              "      <td>1010867575</td>\n",
              "      <td>0</td>\n",
              "      <td>0</td>\n",
              "      <td>2017-03-03</td>\n",
              "      <td>2</td>\n",
              "    </tr>\n",
              "    <tr>\n",
              "      <th>3</th>\n",
              "      <td>2017-03-04</td>\n",
              "      <td>240061</td>\n",
              "      <td>1492913</td>\n",
              "      <td>1855353</td>\n",
              "      <td>1079194579</td>\n",
              "      <td>1</td>\n",
              "      <td>0</td>\n",
              "      <td>2017-03-04</td>\n",
              "      <td>2</td>\n",
              "    </tr>\n",
              "    <tr>\n",
              "      <th>4</th>\n",
              "      <td>2017-03-05</td>\n",
              "      <td>446314</td>\n",
              "      <td>1594712</td>\n",
              "      <td>2041418</td>\n",
              "      <td>1357736987</td>\n",
              "      <td>0</td>\n",
              "      <td>0</td>\n",
              "      <td>2017-03-05</td>\n",
              "      <td>2</td>\n",
              "    </tr>\n",
              "  </tbody>\n",
              "</table>\n",
              "</div>"
            ],
            "text/plain": [
              "        Date  Views_show  Visitors  ...  Character_A        day  weekday\n",
              "0 2017-03-01      183738   1260228  ...            0 2017-03-01        2\n",
              "1 2017-03-02      193763   1270561  ...            0 2017-03-02        2\n",
              "2 2017-03-03      210479   1248183  ...            0 2017-03-03        2\n",
              "3 2017-03-04      240061   1492913  ...            0 2017-03-04        2\n",
              "4 2017-03-05      446314   1594712  ...            0 2017-03-05        2\n",
              "\n",
              "[5 rows x 9 columns]"
            ]
          },
          "metadata": {
            "tags": []
          },
          "execution_count": 61
        }
      ]
    },
    {
      "cell_type": "code",
      "metadata": {
        "id": "bQmp-fDAI8IG",
        "colab_type": "code",
        "colab": {}
      },
      "source": [
        "# Cleaning days\n",
        "media['day'] = media['day'].astype(str)\n",
        "media['day'] = media['day'].map(lambda x: x[0:2])\n",
        "media['day'] = media['day'].astype(int)"
      ],
      "execution_count": 62,
      "outputs": []
    },
    {
      "cell_type": "code",
      "metadata": {
        "id": "pE_YGmGCI8IL",
        "colab_type": "code",
        "colab": {
          "base_uri": "https://localhost:8080/",
          "height": 204
        },
        "outputId": "e1812708-7724-4fc2-eca6-ddd0672cd1a7"
      },
      "source": [
        "media.head()"
      ],
      "execution_count": 63,
      "outputs": [
        {
          "output_type": "execute_result",
          "data": {
            "text/html": [
              "<div>\n",
              "<style scoped>\n",
              "    .dataframe tbody tr th:only-of-type {\n",
              "        vertical-align: middle;\n",
              "    }\n",
              "\n",
              "    .dataframe tbody tr th {\n",
              "        vertical-align: top;\n",
              "    }\n",
              "\n",
              "    .dataframe thead th {\n",
              "        text-align: right;\n",
              "    }\n",
              "</style>\n",
              "<table border=\"1\" class=\"dataframe\">\n",
              "  <thead>\n",
              "    <tr style=\"text-align: right;\">\n",
              "      <th></th>\n",
              "      <th>Date</th>\n",
              "      <th>Views_show</th>\n",
              "      <th>Visitors</th>\n",
              "      <th>Views_platform</th>\n",
              "      <th>Ad_impression</th>\n",
              "      <th>Cricket_match_india</th>\n",
              "      <th>Character_A</th>\n",
              "      <th>day</th>\n",
              "      <th>weekday</th>\n",
              "    </tr>\n",
              "  </thead>\n",
              "  <tbody>\n",
              "    <tr>\n",
              "      <th>0</th>\n",
              "      <td>2017-03-01</td>\n",
              "      <td>183738</td>\n",
              "      <td>1260228</td>\n",
              "      <td>1706478</td>\n",
              "      <td>1060860448</td>\n",
              "      <td>0</td>\n",
              "      <td>0</td>\n",
              "      <td>20</td>\n",
              "      <td>2</td>\n",
              "    </tr>\n",
              "    <tr>\n",
              "      <th>1</th>\n",
              "      <td>2017-03-02</td>\n",
              "      <td>193763</td>\n",
              "      <td>1270561</td>\n",
              "      <td>1690727</td>\n",
              "      <td>1031846645</td>\n",
              "      <td>0</td>\n",
              "      <td>0</td>\n",
              "      <td>20</td>\n",
              "      <td>2</td>\n",
              "    </tr>\n",
              "    <tr>\n",
              "      <th>2</th>\n",
              "      <td>2017-03-03</td>\n",
              "      <td>210479</td>\n",
              "      <td>1248183</td>\n",
              "      <td>1726157</td>\n",
              "      <td>1010867575</td>\n",
              "      <td>0</td>\n",
              "      <td>0</td>\n",
              "      <td>20</td>\n",
              "      <td>2</td>\n",
              "    </tr>\n",
              "    <tr>\n",
              "      <th>3</th>\n",
              "      <td>2017-03-04</td>\n",
              "      <td>240061</td>\n",
              "      <td>1492913</td>\n",
              "      <td>1855353</td>\n",
              "      <td>1079194579</td>\n",
              "      <td>1</td>\n",
              "      <td>0</td>\n",
              "      <td>20</td>\n",
              "      <td>2</td>\n",
              "    </tr>\n",
              "    <tr>\n",
              "      <th>4</th>\n",
              "      <td>2017-03-05</td>\n",
              "      <td>446314</td>\n",
              "      <td>1594712</td>\n",
              "      <td>2041418</td>\n",
              "      <td>1357736987</td>\n",
              "      <td>0</td>\n",
              "      <td>0</td>\n",
              "      <td>20</td>\n",
              "      <td>2</td>\n",
              "    </tr>\n",
              "  </tbody>\n",
              "</table>\n",
              "</div>"
            ],
            "text/plain": [
              "        Date  Views_show  Visitors  ...  Character_A  day  weekday\n",
              "0 2017-03-01      183738   1260228  ...            0   20        2\n",
              "1 2017-03-02      193763   1270561  ...            0   20        2\n",
              "2 2017-03-03      210479   1248183  ...            0   20        2\n",
              "3 2017-03-04      240061   1492913  ...            0   20        2\n",
              "4 2017-03-05      446314   1594712  ...            0   20        2\n",
              "\n",
              "[5 rows x 9 columns]"
            ]
          },
          "metadata": {
            "tags": []
          },
          "execution_count": 63
        }
      ]
    },
    {
      "cell_type": "code",
      "metadata": {
        "id": "z2DbIm05I8IP",
        "colab_type": "code",
        "colab": {
          "base_uri": "https://localhost:8080/",
          "height": 296
        },
        "outputId": "549b39b5-b823-42b7-a2c9-171f3f7280f7"
      },
      "source": [
        "# days vs Views_show\n",
        "media.plot.line(x='day', y='Views_show')"
      ],
      "execution_count": 64,
      "outputs": [
        {
          "output_type": "execute_result",
          "data": {
            "text/plain": [
              "<matplotlib.axes._subplots.AxesSubplot at 0x7f9b21f01978>"
            ]
          },
          "metadata": {
            "tags": []
          },
          "execution_count": 64
        },
        {
          "output_type": "display_data",
          "data": {
            "image/png": "[encoded data removed]",
            "text/plain": [
              "<Figure size 432x288 with 1 Axes>"
            ]
          },
          "metadata": {
            "tags": [],
            "needs_background": "light"
          }
        }
      ]
    },
    {
      "cell_type": "code",
      "metadata": {
        "id": "6EnAVA1qI8IT",
        "colab_type": "code",
        "colab": {
          "base_uri": "https://localhost:8080/",
          "height": 332
        },
        "outputId": "7603bd28-4edc-4e8e-ea6a-157ab9f2da05"
      },
      "source": [
        "# Scatter Plot (days vs Views_show)\n",
        "colors = (0,0,0)\n",
        "area = np.pi*3\n",
        "plt.scatter(media.day, media.Views_show, s=area, c=colors, alpha=0.5)\n",
        "plt.title('Scatter plot pythonspot.com')\n",
        "plt.xlabel('x')\n",
        "plt.ylabel('y')\n",
        "plt.show()"
      ],
      "execution_count": 65,
      "outputs": [
        {
          "output_type": "stream",
          "text": [
            "*c* argument looks like a single numeric RGB or RGBA sequence, which should be avoided as value-mapping will have precedence in case its length matches with *x* & *y*.  Please use the *color* keyword-argument or provide a 2-D array with a single row if you intend to specify the same RGB or RGBA value for all points.\n"
          ],
          "name": "stderr"
        },
        {
          "output_type": "display_data",
          "data": {
            "image/png": "[encoded data removed]",
            "text/plain": [
              "<Figure size 432x288 with 1 Axes>"
            ]
          },
          "metadata": {
            "tags": [],
            "needs_background": "light"
          }
        }
      ]
    },
    {
      "cell_type": "code",
      "metadata": {
        "id": "zw4ZXogiI8IY",
        "colab_type": "code",
        "colab": {
          "base_uri": "https://localhost:8080/",
          "height": 273
        },
        "outputId": "de9d4c4f-22c9-4cef-a69c-2b00442ec8ec"
      },
      "source": [
        "# plot for days vs Views_show and days vs Ad_impressions\n",
        "\n",
        "fig = plt.figure()\n",
        "host = fig.add_subplot(111)\n",
        "\n",
        "par1 = host.twinx()\n",
        "par2 = host.twinx()\n",
        "\n",
        "host.set_xlabel(\"Day\")\n",
        "host.set_ylabel(\"View_Show\")\n",
        "par1.set_ylabel(\"Ad_impression\")\n",
        "\n",
        "color1 = plt.cm.viridis(0)\n",
        "color2 = plt.cm.viridis(0.5)\n",
        "color3 = plt.cm.viridis(.9)\n",
        "\n",
        "p1, = host.plot(media.day,media.Views_show, color=color1,label=\"View_Show\")\n",
        "p2, = par1.plot(media.day,media.Ad_impression,color=color2, label=\"Ad_impression\")\n",
        "\n",
        "lns = [p1, p2]\n",
        "host.legend(handles=lns, loc='best')\n",
        "\n",
        "# right, left, top, bottom\n",
        "par2.spines['right'].set_position(('outward', 60))      \n",
        "# no x-ticks                 \n",
        "par2.xaxis.set_ticks([])\n",
        "# Sometimes handy, same for xaxis\n",
        "#par2.yaxis.set_ticks_position('right')\n",
        "\n",
        "host.yaxis.label.set_color(p1.get_color())\n",
        "par1.yaxis.label.set_color(p2.get_color())\n",
        "\n",
        "plt.savefig(\"pyplot_multiple_y-axis.png\", bbox_inches='tight')"
      ],
      "execution_count": 67,
      "outputs": [
        {
          "output_type": "display_data",
          "data": {
            "image/png": "[encoded data removed]",
            "text/plain": [
              "<Figure size 432x288 with 3 Axes>"
            ]
          },
          "metadata": {
            "tags": [],
            "needs_background": "light"
          }
        }
      ]
    },
    {
      "cell_type": "code",
      "metadata": {
        "id": "ElsgBHf-I8Ie",
        "colab_type": "code",
        "colab": {
          "base_uri": "https://localhost:8080/",
          "height": 204
        },
        "outputId": "c49cb699-5b2a-4f67-ef59-6ea5e64e006e"
      },
      "source": [
        "# Derived Metrics\n",
        "# Weekdays are taken such that 1 corresponds to Sunday and 7 to Saturday\n",
        "# Generate the weekday variable\n",
        "media['weekday'] = (media['day']+3)%7\n",
        "media.weekday.replace(0,7, inplace=True)\n",
        "media['weekday'] = media['weekday'].astype(int)\n",
        "media.head()"
      ],
      "execution_count": 68,
      "outputs": [
        {
          "output_type": "execute_result",
          "data": {
            "text/html": [
              "<div>\n",
              "<style scoped>\n",
              "    .dataframe tbody tr th:only-of-type {\n",
              "        vertical-align: middle;\n",
              "    }\n",
              "\n",
              "    .dataframe tbody tr th {\n",
              "        vertical-align: top;\n",
              "    }\n",
              "\n",
              "    .dataframe thead th {\n",
              "        text-align: right;\n",
              "    }\n",
              "</style>\n",
              "<table border=\"1\" class=\"dataframe\">\n",
              "  <thead>\n",
              "    <tr style=\"text-align: right;\">\n",
              "      <th></th>\n",
              "      <th>Date</th>\n",
              "      <th>Views_show</th>\n",
              "      <th>Visitors</th>\n",
              "      <th>Views_platform</th>\n",
              "      <th>Ad_impression</th>\n",
              "      <th>Cricket_match_india</th>\n",
              "      <th>Character_A</th>\n",
              "      <th>day</th>\n",
              "      <th>weekday</th>\n",
              "    </tr>\n",
              "  </thead>\n",
              "  <tbody>\n",
              "    <tr>\n",
              "      <th>0</th>\n",
              "      <td>2017-03-01</td>\n",
              "      <td>183738</td>\n",
              "      <td>1260228</td>\n",
              "      <td>1706478</td>\n",
              "      <td>1060860448</td>\n",
              "      <td>0</td>\n",
              "      <td>0</td>\n",
              "      <td>20</td>\n",
              "      <td>2</td>\n",
              "    </tr>\n",
              "    <tr>\n",
              "      <th>1</th>\n",
              "      <td>2017-03-02</td>\n",
              "      <td>193763</td>\n",
              "      <td>1270561</td>\n",
              "      <td>1690727</td>\n",
              "      <td>1031846645</td>\n",
              "      <td>0</td>\n",
              "      <td>0</td>\n",
              "      <td>20</td>\n",
              "      <td>2</td>\n",
              "    </tr>\n",
              "    <tr>\n",
              "      <th>2</th>\n",
              "      <td>2017-03-03</td>\n",
              "      <td>210479</td>\n",
              "      <td>1248183</td>\n",
              "      <td>1726157</td>\n",
              "      <td>1010867575</td>\n",
              "      <td>0</td>\n",
              "      <td>0</td>\n",
              "      <td>20</td>\n",
              "      <td>2</td>\n",
              "    </tr>\n",
              "    <tr>\n",
              "      <th>3</th>\n",
              "      <td>2017-03-04</td>\n",
              "      <td>240061</td>\n",
              "      <td>1492913</td>\n",
              "      <td>1855353</td>\n",
              "      <td>1079194579</td>\n",
              "      <td>1</td>\n",
              "      <td>0</td>\n",
              "      <td>20</td>\n",
              "      <td>2</td>\n",
              "    </tr>\n",
              "    <tr>\n",
              "      <th>4</th>\n",
              "      <td>2017-03-05</td>\n",
              "      <td>446314</td>\n",
              "      <td>1594712</td>\n",
              "      <td>2041418</td>\n",
              "      <td>1357736987</td>\n",
              "      <td>0</td>\n",
              "      <td>0</td>\n",
              "      <td>20</td>\n",
              "      <td>2</td>\n",
              "    </tr>\n",
              "  </tbody>\n",
              "</table>\n",
              "</div>"
            ],
            "text/plain": [
              "        Date  Views_show  Visitors  ...  Character_A  day  weekday\n",
              "0 2017-03-01      183738   1260228  ...            0   20        2\n",
              "1 2017-03-02      193763   1270561  ...            0   20        2\n",
              "2 2017-03-03      210479   1248183  ...            0   20        2\n",
              "3 2017-03-04      240061   1492913  ...            0   20        2\n",
              "4 2017-03-05      446314   1594712  ...            0   20        2\n",
              "\n",
              "[5 rows x 9 columns]"
            ]
          },
          "metadata": {
            "tags": []
          },
          "execution_count": 68
        }
      ]
    },
    {
      "cell_type": "markdown",
      "metadata": {
        "id": "gYGRb463I8Ij",
        "colab_type": "text"
      },
      "source": [
        "#### Running first model (lm1) Weekday & visitors "
      ]
    },
    {
      "cell_type": "code",
      "metadata": {
        "id": "4oQ-Qgu-I8Ik",
        "colab_type": "code",
        "colab": {}
      },
      "source": [
        "# Putting feature variable to X\n",
        "X = media[['Visitors','weekday']]\n",
        "\n",
        "# Putting response variable to y\n",
        "y = media['Views_show']"
      ],
      "execution_count": 69,
      "outputs": []
    },
    {
      "cell_type": "code",
      "metadata": {
        "id": "wOrsIs8WI8Ip",
        "colab_type": "code",
        "colab": {}
      },
      "source": [
        "from sklearn.linear_model import LinearRegression"
      ],
      "execution_count": 70,
      "outputs": []
    },
    {
      "cell_type": "code",
      "metadata": {
        "id": "edxIIKEEI8Iu",
        "colab_type": "code",
        "colab": {}
      },
      "source": [
        "# Representing LinearRegression as lr(Creating LinearRegression Object)\n",
        "lm = LinearRegression()"
      ],
      "execution_count": 71,
      "outputs": []
    },
    {
      "cell_type": "code",
      "metadata": {
        "id": "v6V2ipMXI8Iy",
        "colab_type": "code",
        "colab": {
          "base_uri": "https://localhost:8080/",
          "height": 34
        },
        "outputId": "985d0f0a-1457-4672-ca5e-d7bbd19c58fd"
      },
      "source": [
        "# fit the model to the training data\n",
        "lm.fit(X,y)"
      ],
      "execution_count": 72,
      "outputs": [
        {
          "output_type": "execute_result",
          "data": {
            "text/plain": [
              "LinearRegression(copy_X=True, fit_intercept=True, n_jobs=None, normalize=False)"
            ]
          },
          "metadata": {
            "tags": []
          },
          "execution_count": 72
        }
      ]
    },
    {
      "cell_type": "code",
      "metadata": {
        "id": "kI0K_w7OI8I9",
        "colab_type": "code",
        "colab": {
          "base_uri": "https://localhost:8080/",
          "height": 476
        },
        "outputId": "d57a8165-c20e-477b-e2b9-8126df85adb0"
      },
      "source": [
        "import statsmodels.api as sm\n",
        "#Unlike SKLearn, statsmodels don't automatically fit a constant, \n",
        "#so you need to use the method sm.add_constant(X) in order to add a constant. \n",
        "X = sm.add_constant(X)\n",
        "# create a fitted model in one line\n",
        "lm_1 = sm.OLS(y,X).fit()\n",
        "print(lm_1.summary())"
      ],
      "execution_count": 73,
      "outputs": [
        {
          "output_type": "stream",
          "text": [
            "                            OLS Regression Results                            \n",
            "==============================================================================\n",
            "Dep. Variable:             Views_show   R-squared:                       0.287\n",
            "Model:                            OLS   Adj. R-squared:                  0.277\n",
            "Method:                 Least Squares   F-statistic:                     31.33\n",
            "Date:                Thu, 06 Aug 2020   Prob (F-statistic):           3.12e-07\n",
            "Time:                        10:04:33   Log-Likelihood:                -1055.6\n",
            "No. Observations:                  80   AIC:                             2115.\n",
            "Df Residuals:                      78   BIC:                             2120.\n",
            "Df Model:                           1                                         \n",
            "Covariance Type:            nonrobust                                         \n",
            "==============================================================================\n",
            "                 coef    std err          t      P>|t|      [0.025      0.975]\n",
            "------------------------------------------------------------------------------\n",
            "Visitors       0.3588      0.064      5.597      0.000       0.231       0.486\n",
            "weekday    -1.598e+05   5.49e+04     -2.909      0.005   -2.69e+05   -5.04e+04\n",
            "==============================================================================\n",
            "Omnibus:                        4.922   Durbin-Watson:                   0.894\n",
            "Prob(Omnibus):                  0.085   Jarque-Bera (JB):                4.906\n",
            "Skew:                           0.598   Prob(JB):                       0.0860\n",
            "Kurtosis:                       2.801   Cond. No.                     6.40e+06\n",
            "==============================================================================\n",
            "\n",
            "Warnings:\n",
            "[1] Standard Errors assume that the covariance matrix of the errors is correctly specified.\n",
            "[2] The condition number is large, 6.4e+06. This might indicate that there are\n",
            "strong multicollinearity or other numerical problems.\n"
          ],
          "name": "stdout"
        }
      ]
    },
    {
      "cell_type": "code",
      "metadata": {
        "id": "mZbp0NS0I8JB",
        "colab_type": "code",
        "colab": {}
      },
      "source": [
        "# create Weekend variable, with value 1 at weekends and 0 at weekdays\n",
        "def cond(i):\n",
        "    if i % 7 == 5: return 1\n",
        "    elif i % 7 == 4: return 1\n",
        "    else :return 0\n",
        "    return i\n",
        "\n",
        "media['weekend']=[cond(i) for i in media['day']]"
      ],
      "execution_count": 74,
      "outputs": []
    },
    {
      "cell_type": "code",
      "metadata": {
        "id": "x1Eiv7DEI8JE",
        "colab_type": "code",
        "colab": {
          "base_uri": "https://localhost:8080/",
          "height": 289
        },
        "outputId": "90945f5b-63ec-40eb-9f40-fce27c850f91"
      },
      "source": [
        "media.head()\n"
      ],
      "execution_count": 75,
      "outputs": [
        {
          "output_type": "execute_result",
          "data": {
            "text/html": [
              "<div>\n",
              "<style scoped>\n",
              "    .dataframe tbody tr th:only-of-type {\n",
              "        vertical-align: middle;\n",
              "    }\n",
              "\n",
              "    .dataframe tbody tr th {\n",
              "        vertical-align: top;\n",
              "    }\n",
              "\n",
              "    .dataframe thead th {\n",
              "        text-align: right;\n",
              "    }\n",
              "</style>\n",
              "<table border=\"1\" class=\"dataframe\">\n",
              "  <thead>\n",
              "    <tr style=\"text-align: right;\">\n",
              "      <th></th>\n",
              "      <th>Date</th>\n",
              "      <th>Views_show</th>\n",
              "      <th>Visitors</th>\n",
              "      <th>Views_platform</th>\n",
              "      <th>Ad_impression</th>\n",
              "      <th>Cricket_match_india</th>\n",
              "      <th>Character_A</th>\n",
              "      <th>day</th>\n",
              "      <th>weekday</th>\n",
              "      <th>weekend</th>\n",
              "    </tr>\n",
              "  </thead>\n",
              "  <tbody>\n",
              "    <tr>\n",
              "      <th>0</th>\n",
              "      <td>2017-03-01</td>\n",
              "      <td>183738</td>\n",
              "      <td>1260228</td>\n",
              "      <td>1706478</td>\n",
              "      <td>1060860448</td>\n",
              "      <td>0</td>\n",
              "      <td>0</td>\n",
              "      <td>20</td>\n",
              "      <td>2</td>\n",
              "      <td>0</td>\n",
              "    </tr>\n",
              "    <tr>\n",
              "      <th>1</th>\n",
              "      <td>2017-03-02</td>\n",
              "      <td>193763</td>\n",
              "      <td>1270561</td>\n",
              "      <td>1690727</td>\n",
              "      <td>1031846645</td>\n",
              "      <td>0</td>\n",
              "      <td>0</td>\n",
              "      <td>20</td>\n",
              "      <td>2</td>\n",
              "      <td>0</td>\n",
              "    </tr>\n",
              "    <tr>\n",
              "      <th>2</th>\n",
              "      <td>2017-03-03</td>\n",
              "      <td>210479</td>\n",
              "      <td>1248183</td>\n",
              "      <td>1726157</td>\n",
              "      <td>1010867575</td>\n",
              "      <td>0</td>\n",
              "      <td>0</td>\n",
              "      <td>20</td>\n",
              "      <td>2</td>\n",
              "      <td>0</td>\n",
              "    </tr>\n",
              "    <tr>\n",
              "      <th>3</th>\n",
              "      <td>2017-03-04</td>\n",
              "      <td>240061</td>\n",
              "      <td>1492913</td>\n",
              "      <td>1855353</td>\n",
              "      <td>1079194579</td>\n",
              "      <td>1</td>\n",
              "      <td>0</td>\n",
              "      <td>20</td>\n",
              "      <td>2</td>\n",
              "      <td>0</td>\n",
              "    </tr>\n",
              "    <tr>\n",
              "      <th>4</th>\n",
              "      <td>2017-03-05</td>\n",
              "      <td>446314</td>\n",
              "      <td>1594712</td>\n",
              "      <td>2041418</td>\n",
              "      <td>1357736987</td>\n",
              "      <td>0</td>\n",
              "      <td>0</td>\n",
              "      <td>20</td>\n",
              "      <td>2</td>\n",
              "      <td>0</td>\n",
              "    </tr>\n",
              "  </tbody>\n",
              "</table>\n",
              "</div>"
            ],
            "text/plain": [
              "        Date  Views_show  Visitors  ...  day  weekday  weekend\n",
              "0 2017-03-01      183738   1260228  ...   20        2        0\n",
              "1 2017-03-02      193763   1270561  ...   20        2        0\n",
              "2 2017-03-03      210479   1248183  ...   20        2        0\n",
              "3 2017-03-04      240061   1492913  ...   20        2        0\n",
              "4 2017-03-05      446314   1594712  ...   20        2        0\n",
              "\n",
              "[5 rows x 10 columns]"
            ]
          },
          "metadata": {
            "tags": []
          },
          "execution_count": 75
        }
      ]
    },
    {
      "cell_type": "markdown",
      "metadata": {
        "id": "kRg-gUJQI8JI",
        "colab_type": "text"
      },
      "source": [
        "#### Running second model (lm2) visitors & weekend"
      ]
    },
    {
      "cell_type": "code",
      "metadata": {
        "id": "FuEnOrgqI8JJ",
        "colab_type": "code",
        "colab": {}
      },
      "source": [
        "# Putting feature variable to X\n",
        "X = media[['Visitors','weekend']]\n",
        "\n",
        "# Putting response variable to y\n",
        "y = media['Views_show']"
      ],
      "execution_count": 76,
      "outputs": []
    },
    {
      "cell_type": "code",
      "metadata": {
        "id": "r7CSD5tQI8JM",
        "colab_type": "code",
        "colab": {
          "base_uri": "https://localhost:8080/",
          "height": 683
        },
        "outputId": "f17e5891-ce54-4822-d678-15459a86bdd2"
      },
      "source": [
        "import statsmodels.api as sm\n",
        "#Unlike SKLearn, statsmodels don't automatically fit a constant, \n",
        "#so you need to use the method sm.add_constant(X) in order to add a constant. \n",
        "X = sm.add_constant(X)\n",
        "# create a fitted model in one line\n",
        "lm_2 = sm.OLS(y,X).fit()\n",
        "print(lm_2.summary())"
      ],
      "execution_count": 77,
      "outputs": [
        {
          "output_type": "stream",
          "text": [
            "                            OLS Regression Results                            \n",
            "==============================================================================\n",
            "Dep. Variable:             Views_show   R-squared:                       0.287\n",
            "Model:                            OLS   Adj. R-squared:                  0.277\n",
            "Method:                 Least Squares   F-statistic:                     31.33\n",
            "Date:                Thu, 06 Aug 2020   Prob (F-statistic):           3.12e-07\n",
            "Time:                        10:04:50   Log-Likelihood:                -1055.6\n",
            "No. Observations:                  80   AIC:                             2115.\n",
            "Df Residuals:                      78   BIC:                             2120.\n",
            "Df Model:                           1                                         \n",
            "Covariance Type:            nonrobust                                         \n",
            "==============================================================================\n",
            "                 coef    std err          t      P>|t|      [0.025      0.975]\n",
            "------------------------------------------------------------------------------\n",
            "const      -3.197e+05    1.1e+05     -2.909      0.005   -5.38e+05   -1.01e+05\n",
            "Visitors       0.3588      0.064      5.597      0.000       0.231       0.486\n",
            "weekend             0          0        nan        nan           0           0\n",
            "==============================================================================\n",
            "Omnibus:                        4.922   Durbin-Watson:                   0.894\n",
            "Prob(Omnibus):                  0.085   Jarque-Bera (JB):                4.906\n",
            "Skew:                           0.598   Prob(JB):                       0.0860\n",
            "Kurtosis:                       2.801   Cond. No.                          inf\n",
            "==============================================================================\n",
            "\n",
            "Warnings:\n",
            "[1] Standard Errors assume that the covariance matrix of the errors is correctly specified.\n",
            "[2] The smallest eigenvalue is      0. This might indicate that there are\n",
            "strong multicollinearity problems or that the design matrix is singular.\n"
          ],
          "name": "stdout"
        },
        {
          "output_type": "stream",
          "text": [
            "/usr/local/lib/python3.6/dist-packages/statsmodels/regression/linear_model.py:1755: RuntimeWarning: divide by zero encountered in double_scalars\n",
            "  return np.sqrt(eigvals[0]/eigvals[-1])\n",
            "/usr/local/lib/python3.6/dist-packages/statsmodels/base/model.py:1294: RuntimeWarning: invalid value encountered in true_divide\n",
            "  return self.params / self.bse\n",
            "/usr/local/lib/python3.6/dist-packages/scipy/stats/_distn_infrastructure.py:903: RuntimeWarning: invalid value encountered in greater\n",
            "  return (a < x) & (x < b)\n",
            "/usr/local/lib/python3.6/dist-packages/scipy/stats/_distn_infrastructure.py:903: RuntimeWarning: invalid value encountered in less\n",
            "  return (a < x) & (x < b)\n",
            "/usr/local/lib/python3.6/dist-packages/scipy/stats/_distn_infrastructure.py:1912: RuntimeWarning: invalid value encountered in less_equal\n",
            "  cond2 = cond0 & (x <= _a)\n"
          ],
          "name": "stderr"
        }
      ]
    },
    {
      "cell_type": "markdown",
      "metadata": {
        "id": "71gH7xA0I8JP",
        "colab_type": "text"
      },
      "source": [
        "#### Running third model (lm3) visitors, weekend & Character_A"
      ]
    },
    {
      "cell_type": "code",
      "metadata": {
        "id": "ldiqClrkI8JP",
        "colab_type": "code",
        "colab": {}
      },
      "source": [
        "# Putting feature variable to X\n",
        "X = media[['Visitors','weekend','Character_A']]\n",
        "\n",
        "# Putting response variable to y\n",
        "y = media['Views_show']"
      ],
      "execution_count": 78,
      "outputs": []
    },
    {
      "cell_type": "code",
      "metadata": {
        "id": "isQSF730I8JU",
        "colab_type": "code",
        "colab": {
          "base_uri": "https://localhost:8080/",
          "height": 700
        },
        "outputId": "c2cf2a2c-db04-4aaf-adb1-0b7042ada531"
      },
      "source": [
        "import statsmodels.api as sm\n",
        "#Unlike SKLearn, statsmodels don't automatically fit a constant, \n",
        "#so you need to use the method sm.add_constant(X) in order to add a constant. \n",
        "X = sm.add_constant(X)\n",
        "# create a fitted model in one line\n",
        "lm_3 = sm.OLS(y,X).fit()\n",
        "print(lm_3.summary())"
      ],
      "execution_count": 79,
      "outputs": [
        {
          "output_type": "stream",
          "text": [
            "                            OLS Regression Results                            \n",
            "==============================================================================\n",
            "Dep. Variable:             Views_show   R-squared:                       0.371\n",
            "Model:                            OLS   Adj. R-squared:                  0.355\n",
            "Method:                 Least Squares   F-statistic:                     22.70\n",
            "Date:                Thu, 06 Aug 2020   Prob (F-statistic):           1.78e-08\n",
            "Time:                        10:04:55   Log-Likelihood:                -1050.5\n",
            "No. Observations:                  80   AIC:                             2107.\n",
            "Df Residuals:                      77   BIC:                             2114.\n",
            "Df Model:                           2                                         \n",
            "Covariance Type:            nonrobust                                         \n",
            "===============================================================================\n",
            "                  coef    std err          t      P>|t|      [0.025      0.975]\n",
            "-------------------------------------------------------------------------------\n",
            "const       -2.795e+05   1.05e+05     -2.672      0.009   -4.88e+05   -7.12e+04\n",
            "Visitors        0.3142      0.062      5.056      0.000       0.190       0.438\n",
            "weekend              0          0        nan        nan           0           0\n",
            "Character_A  9.475e+04   2.95e+04      3.213      0.002     3.6e+04    1.53e+05\n",
            "==============================================================================\n",
            "Omnibus:                        5.028   Durbin-Watson:                   1.074\n",
            "Prob(Omnibus):                  0.081   Jarque-Bera (JB):                5.024\n",
            "Skew:                           0.579   Prob(JB):                       0.0811\n",
            "Kurtosis:                       2.595   Cond. No.                          inf\n",
            "==============================================================================\n",
            "\n",
            "Warnings:\n",
            "[1] Standard Errors assume that the covariance matrix of the errors is correctly specified.\n",
            "[2] The smallest eigenvalue is      0. This might indicate that there are\n",
            "strong multicollinearity problems or that the design matrix is singular.\n"
          ],
          "name": "stdout"
        },
        {
          "output_type": "stream",
          "text": [
            "/usr/local/lib/python3.6/dist-packages/statsmodels/regression/linear_model.py:1755: RuntimeWarning: divide by zero encountered in double_scalars\n",
            "  return np.sqrt(eigvals[0]/eigvals[-1])\n",
            "/usr/local/lib/python3.6/dist-packages/statsmodels/base/model.py:1294: RuntimeWarning: invalid value encountered in true_divide\n",
            "  return self.params / self.bse\n",
            "/usr/local/lib/python3.6/dist-packages/scipy/stats/_distn_infrastructure.py:903: RuntimeWarning: invalid value encountered in greater\n",
            "  return (a < x) & (x < b)\n",
            "/usr/local/lib/python3.6/dist-packages/scipy/stats/_distn_infrastructure.py:903: RuntimeWarning: invalid value encountered in less\n",
            "  return (a < x) & (x < b)\n",
            "/usr/local/lib/python3.6/dist-packages/scipy/stats/_distn_infrastructure.py:1912: RuntimeWarning: invalid value encountered in less_equal\n",
            "  cond2 = cond0 & (x <= _a)\n"
          ],
          "name": "stderr"
        }
      ]
    },
    {
      "cell_type": "code",
      "metadata": {
        "id": "tEr95QI-I8Ja",
        "colab_type": "code",
        "colab": {}
      },
      "source": [
        "# Create lag variable\n",
        "media['Lag_Views'] = np.roll(media['Views_show'], 1)\n",
        "media.Lag_Views.replace(108961,0, inplace=True)"
      ],
      "execution_count": 80,
      "outputs": []
    },
    {
      "cell_type": "code",
      "metadata": {
        "id": "FRpxv3b-I8Jd",
        "colab_type": "code",
        "colab": {
          "base_uri": "https://localhost:8080/",
          "height": 549
        },
        "outputId": "f2d20acf-d841-443e-bf7e-05924029d6ad"
      },
      "source": [
        "media.head(10)\n"
      ],
      "execution_count": 81,
      "outputs": [
        {
          "output_type": "execute_result",
          "data": {
            "text/html": [
              "<div>\n",
              "<style scoped>\n",
              "    .dataframe tbody tr th:only-of-type {\n",
              "        vertical-align: middle;\n",
              "    }\n",
              "\n",
              "    .dataframe tbody tr th {\n",
              "        vertical-align: top;\n",
              "    }\n",
              "\n",
              "    .dataframe thead th {\n",
              "        text-align: right;\n",
              "    }\n",
              "</style>\n",
              "<table border=\"1\" class=\"dataframe\">\n",
              "  <thead>\n",
              "    <tr style=\"text-align: right;\">\n",
              "      <th></th>\n",
              "      <th>Date</th>\n",
              "      <th>Views_show</th>\n",
              "      <th>Visitors</th>\n",
              "      <th>Views_platform</th>\n",
              "      <th>Ad_impression</th>\n",
              "      <th>Cricket_match_india</th>\n",
              "      <th>Character_A</th>\n",
              "      <th>day</th>\n",
              "      <th>weekday</th>\n",
              "      <th>weekend</th>\n",
              "      <th>Lag_Views</th>\n",
              "    </tr>\n",
              "  </thead>\n",
              "  <tbody>\n",
              "    <tr>\n",
              "      <th>0</th>\n",
              "      <td>2017-03-01</td>\n",
              "      <td>183738</td>\n",
              "      <td>1260228</td>\n",
              "      <td>1706478</td>\n",
              "      <td>1060860448</td>\n",
              "      <td>0</td>\n",
              "      <td>0</td>\n",
              "      <td>20</td>\n",
              "      <td>2</td>\n",
              "      <td>0</td>\n",
              "      <td>0</td>\n",
              "    </tr>\n",
              "    <tr>\n",
              "      <th>1</th>\n",
              "      <td>2017-03-02</td>\n",
              "      <td>193763</td>\n",
              "      <td>1270561</td>\n",
              "      <td>1690727</td>\n",
              "      <td>1031846645</td>\n",
              "      <td>0</td>\n",
              "      <td>0</td>\n",
              "      <td>20</td>\n",
              "      <td>2</td>\n",
              "      <td>0</td>\n",
              "      <td>183738</td>\n",
              "    </tr>\n",
              "    <tr>\n",
              "      <th>2</th>\n",
              "      <td>2017-03-03</td>\n",
              "      <td>210479</td>\n",
              "      <td>1248183</td>\n",
              "      <td>1726157</td>\n",
              "      <td>1010867575</td>\n",
              "      <td>0</td>\n",
              "      <td>0</td>\n",
              "      <td>20</td>\n",
              "      <td>2</td>\n",
              "      <td>0</td>\n",
              "      <td>193763</td>\n",
              "    </tr>\n",
              "    <tr>\n",
              "      <th>3</th>\n",
              "      <td>2017-03-04</td>\n",
              "      <td>240061</td>\n",
              "      <td>1492913</td>\n",
              "      <td>1855353</td>\n",
              "      <td>1079194579</td>\n",
              "      <td>1</td>\n",
              "      <td>0</td>\n",
              "      <td>20</td>\n",
              "      <td>2</td>\n",
              "      <td>0</td>\n",
              "      <td>210479</td>\n",
              "    </tr>\n",
              "    <tr>\n",
              "      <th>4</th>\n",
              "      <td>2017-03-05</td>\n",
              "      <td>446314</td>\n",
              "      <td>1594712</td>\n",
              "      <td>2041418</td>\n",
              "      <td>1357736987</td>\n",
              "      <td>0</td>\n",
              "      <td>0</td>\n",
              "      <td>20</td>\n",
              "      <td>2</td>\n",
              "      <td>0</td>\n",
              "      <td>240061</td>\n",
              "    </tr>\n",
              "    <tr>\n",
              "      <th>5</th>\n",
              "      <td>2017-03-06</td>\n",
              "      <td>342997</td>\n",
              "      <td>1330689</td>\n",
              "      <td>1742540</td>\n",
              "      <td>1140228426</td>\n",
              "      <td>0</td>\n",
              "      <td>0</td>\n",
              "      <td>20</td>\n",
              "      <td>2</td>\n",
              "      <td>0</td>\n",
              "      <td>446314</td>\n",
              "    </tr>\n",
              "    <tr>\n",
              "      <th>6</th>\n",
              "      <td>2017-03-07</td>\n",
              "      <td>227313</td>\n",
              "      <td>1363579</td>\n",
              "      <td>1821742</td>\n",
              "      <td>1113811802</td>\n",
              "      <td>0</td>\n",
              "      <td>0</td>\n",
              "      <td>20</td>\n",
              "      <td>2</td>\n",
              "      <td>0</td>\n",
              "      <td>342997</td>\n",
              "    </tr>\n",
              "    <tr>\n",
              "      <th>7</th>\n",
              "      <td>2017-03-08</td>\n",
              "      <td>180313</td>\n",
              "      <td>1353483</td>\n",
              "      <td>1795456</td>\n",
              "      <td>1083475096</td>\n",
              "      <td>0</td>\n",
              "      <td>0</td>\n",
              "      <td>20</td>\n",
              "      <td>2</td>\n",
              "      <td>0</td>\n",
              "      <td>227313</td>\n",
              "    </tr>\n",
              "    <tr>\n",
              "      <th>8</th>\n",
              "      <td>2017-03-09</td>\n",
              "      <td>178800</td>\n",
              "      <td>1345428</td>\n",
              "      <td>1794157</td>\n",
              "      <td>1067636147</td>\n",
              "      <td>0</td>\n",
              "      <td>0</td>\n",
              "      <td>20</td>\n",
              "      <td>2</td>\n",
              "      <td>0</td>\n",
              "      <td>180313</td>\n",
              "    </tr>\n",
              "    <tr>\n",
              "      <th>9</th>\n",
              "      <td>2017-03-10</td>\n",
              "      <td>201180</td>\n",
              "      <td>1344540</td>\n",
              "      <td>1834967</td>\n",
              "      <td>1081234843</td>\n",
              "      <td>0</td>\n",
              "      <td>0</td>\n",
              "      <td>20</td>\n",
              "      <td>2</td>\n",
              "      <td>0</td>\n",
              "      <td>178800</td>\n",
              "    </tr>\n",
              "  </tbody>\n",
              "</table>\n",
              "</div>"
            ],
            "text/plain": [
              "        Date  Views_show  Visitors  ...  weekday  weekend  Lag_Views\n",
              "0 2017-03-01      183738   1260228  ...        2        0          0\n",
              "1 2017-03-02      193763   1270561  ...        2        0     183738\n",
              "2 2017-03-03      210479   1248183  ...        2        0     193763\n",
              "3 2017-03-04      240061   1492913  ...        2        0     210479\n",
              "4 2017-03-05      446314   1594712  ...        2        0     240061\n",
              "5 2017-03-06      342997   1330689  ...        2        0     446314\n",
              "6 2017-03-07      227313   1363579  ...        2        0     342997\n",
              "7 2017-03-08      180313   1353483  ...        2        0     227313\n",
              "8 2017-03-09      178800   1345428  ...        2        0     180313\n",
              "9 2017-03-10      201180   1344540  ...        2        0     178800\n",
              "\n",
              "[10 rows x 11 columns]"
            ]
          },
          "metadata": {
            "tags": []
          },
          "execution_count": 81
        }
      ]
    },
    {
      "cell_type": "markdown",
      "metadata": {
        "id": "ix0KNsILI8Jg",
        "colab_type": "text"
      },
      "source": [
        "#### Running fourth model (lm4) visitors, Character_A, Lag_views & weekend"
      ]
    },
    {
      "cell_type": "code",
      "metadata": {
        "id": "0YrmKcpcI8Jh",
        "colab_type": "code",
        "colab": {}
      },
      "source": [
        "# Putting feature variable to X\n",
        "X = media[['Visitors','Character_A','Lag_Views','weekend']]\n",
        "\n",
        "# Putting response variable to y\n",
        "y = media['Views_show']"
      ],
      "execution_count": 82,
      "outputs": []
    },
    {
      "cell_type": "code",
      "metadata": {
        "id": "BPvVw1WAI8Jj",
        "colab_type": "code",
        "colab": {
          "base_uri": "https://localhost:8080/",
          "height": 717
        },
        "outputId": "2b7d1820-70ee-4458-9d72-fc0add9562b5"
      },
      "source": [
        "import statsmodels.api as sm\n",
        "#Unlike SKLearn, statsmodels don't automatically fit a constant, \n",
        "#so you need to use the method sm.add_constant(X) in order to add a constant. \n",
        "X = sm.add_constant(X)\n",
        "# create a fitted model in one line\n",
        "lm_4 = sm.OLS(y,X).fit()\n",
        "print(lm_4.summary())"
      ],
      "execution_count": 83,
      "outputs": [
        {
          "output_type": "stream",
          "text": [
            "                            OLS Regression Results                            \n",
            "==============================================================================\n",
            "Dep. Variable:             Views_show   R-squared:                       0.430\n",
            "Model:                            OLS   Adj. R-squared:                  0.408\n",
            "Method:                 Least Squares   F-statistic:                     19.11\n",
            "Date:                Thu, 06 Aug 2020   Prob (F-statistic):           2.48e-09\n",
            "Time:                        10:05:08   Log-Likelihood:                -1046.6\n",
            "No. Observations:                  80   AIC:                             2101.\n",
            "Df Residuals:                      76   BIC:                             2111.\n",
            "Df Model:                           3                                         \n",
            "Covariance Type:            nonrobust                                         \n",
            "===============================================================================\n",
            "                  coef    std err          t      P>|t|      [0.025      0.975]\n",
            "-------------------------------------------------------------------------------\n",
            "const       -3.042e+05   1.01e+05     -3.023      0.003   -5.05e+05   -1.04e+05\n",
            "Visitors        0.2906      0.060      4.832      0.000       0.171       0.410\n",
            "Character_A  7.085e+04   2.95e+04      2.401      0.019    1.21e+04     1.3e+05\n",
            "Lag_Views       0.2558      0.091      2.808      0.006       0.074       0.437\n",
            "weekend              0          0        nan        nan           0           0\n",
            "==============================================================================\n",
            "Omnibus:                        8.291   Durbin-Watson:                   1.363\n",
            "Prob(Omnibus):                  0.016   Jarque-Bera (JB):                8.890\n",
            "Skew:                           0.807   Prob(JB):                       0.0117\n",
            "Kurtosis:                       2.752   Cond. No.                          inf\n",
            "==============================================================================\n",
            "\n",
            "Warnings:\n",
            "[1] Standard Errors assume that the covariance matrix of the errors is correctly specified.\n",
            "[2] The smallest eigenvalue is      0. This might indicate that there are\n",
            "strong multicollinearity problems or that the design matrix is singular.\n"
          ],
          "name": "stdout"
        },
        {
          "output_type": "stream",
          "text": [
            "/usr/local/lib/python3.6/dist-packages/statsmodels/regression/linear_model.py:1755: RuntimeWarning: divide by zero encountered in double_scalars\n",
            "  return np.sqrt(eigvals[0]/eigvals[-1])\n",
            "/usr/local/lib/python3.6/dist-packages/statsmodels/base/model.py:1294: RuntimeWarning: invalid value encountered in true_divide\n",
            "  return self.params / self.bse\n",
            "/usr/local/lib/python3.6/dist-packages/scipy/stats/_distn_infrastructure.py:903: RuntimeWarning: invalid value encountered in greater\n",
            "  return (a < x) & (x < b)\n",
            "/usr/local/lib/python3.6/dist-packages/scipy/stats/_distn_infrastructure.py:903: RuntimeWarning: invalid value encountered in less\n",
            "  return (a < x) & (x < b)\n",
            "/usr/local/lib/python3.6/dist-packages/scipy/stats/_distn_infrastructure.py:1912: RuntimeWarning: invalid value encountered in less_equal\n",
            "  cond2 = cond0 & (x <= _a)\n"
          ],
          "name": "stderr"
        }
      ]
    },
    {
      "cell_type": "code",
      "metadata": {
        "id": "_4e7ltwCI8Jn",
        "colab_type": "code",
        "colab": {
          "base_uri": "https://localhost:8080/",
          "height": 518
        },
        "outputId": "48bae03b-9ad2-4227-8ff9-ee65dd5e8440"
      },
      "source": [
        "plt.figure(figsize = (20,10))        # Size of the figure\n",
        "sns.heatmap(media.corr(),annot = True)"
      ],
      "execution_count": 84,
      "outputs": [
        {
          "output_type": "execute_result",
          "data": {
            "text/plain": [
              "<matplotlib.axes._subplots.AxesSubplot at 0x7f9b22129240>"
            ]
          },
          "metadata": {
            "tags": []
          },
          "execution_count": 84
        },
        {
          "output_type": "display_data",
          "data": {
            "image/png": "[encoded data removed]",
            "text/plain": [
              "<Figure size 1440x720 with 2 Axes>"
            ]
          },
          "metadata": {
            "tags": [],
            "needs_background": "light"
          }
        }
      ]
    },
    {
      "cell_type": "markdown",
      "metadata": {
        "id": "C5FwUpSdI8Jq",
        "colab_type": "text"
      },
      "source": [
        "#### Running fifth model (lm5) Character_A, weekend & Views_platform"
      ]
    },
    {
      "cell_type": "code",
      "metadata": {
        "id": "mUUSyiltI8Jr",
        "colab_type": "code",
        "colab": {}
      },
      "source": [
        "# Putting feature variable to X\n",
        "X = media[['weekend','Character_A','Views_platform']]\n",
        "\n",
        "# Putting response variable to y\n",
        "y = media['Views_show']"
      ],
      "execution_count": 85,
      "outputs": []
    },
    {
      "cell_type": "code",
      "metadata": {
        "id": "D1VoUNPQI8Jv",
        "colab_type": "code",
        "colab": {
          "base_uri": "https://localhost:8080/",
          "height": 510
        },
        "outputId": "a72eb9c0-f3b5-434e-e980-260ffe1b2ccf"
      },
      "source": [
        "import statsmodels.api as sm\n",
        "#Unlike SKLearn, statsmodels don't automatically fit a constant, \n",
        "#so you need to use the method sm.add_constant(X) in order to add a constant. \n",
        "X = sm.add_constant(X)\n",
        "# create a fitted model in one line\n",
        "lm_5 = sm.OLS(y,X).fit()\n",
        "print(lm_5.summary())"
      ],
      "execution_count": 86,
      "outputs": [
        {
          "output_type": "stream",
          "text": [
            "                            OLS Regression Results                            \n",
            "==============================================================================\n",
            "Dep. Variable:             Views_show   R-squared:                       0.386\n",
            "Model:                            OLS   Adj. R-squared:                  0.370\n",
            "Method:                 Least Squares   F-statistic:                     24.22\n",
            "Date:                Thu, 06 Aug 2020   Prob (F-statistic):           6.93e-09\n",
            "Time:                        10:05:20   Log-Likelihood:                -1049.5\n",
            "No. Observations:                  80   AIC:                             2105.\n",
            "Df Residuals:                      77   BIC:                             2112.\n",
            "Df Model:                           2                                         \n",
            "Covariance Type:            nonrobust                                         \n",
            "==================================================================================\n",
            "                     coef    std err          t      P>|t|      [0.025      0.975]\n",
            "----------------------------------------------------------------------------------\n",
            "const          -3.567e+05   1.14e+05     -3.123      0.003   -5.84e+05   -1.29e+05\n",
            "weekend            0.0001   4.17e-05      3.084      0.003    4.55e-05       0.000\n",
            "Character_A     5.165e+04   3.18e+04      1.622      0.109   -1.18e+04    1.15e+05\n",
            "Views_platform     0.2823      0.053      5.302      0.000       0.176       0.388\n",
            "==============================================================================\n",
            "Omnibus:                        4.392   Durbin-Watson:                   0.956\n",
            "Prob(Omnibus):                  0.111   Jarque-Bera (JB):                4.202\n",
            "Skew:                           0.505   Prob(JB):                        0.122\n",
            "Kurtosis:                       2.509   Cond. No.                     1.74e+18\n",
            "==============================================================================\n",
            "\n",
            "Warnings:\n",
            "[1] Standard Errors assume that the covariance matrix of the errors is correctly specified.\n",
            "[2] The smallest eigenvalue is 1.32e-22. This might indicate that there are\n",
            "strong multicollinearity problems or that the design matrix is singular.\n"
          ],
          "name": "stdout"
        }
      ]
    },
    {
      "cell_type": "markdown",
      "metadata": {
        "id": "lVlLxKqII8Jy",
        "colab_type": "text"
      },
      "source": [
        "#### Running sixth model (lm6) Character_A, weekend & Visitors"
      ]
    },
    {
      "cell_type": "code",
      "metadata": {
        "id": "7Hbtn-IwI8Jy",
        "colab_type": "code",
        "colab": {}
      },
      "source": [
        "# Putting feature variable to X\n",
        "X = media[['weekend','Character_A','Visitors']]\n",
        "\n",
        "# Putting response variable to y\n",
        "y = media['Views_show']"
      ],
      "execution_count": 87,
      "outputs": []
    },
    {
      "cell_type": "code",
      "metadata": {
        "id": "4ARiE5G3I8J1",
        "colab_type": "code",
        "colab": {
          "base_uri": "https://localhost:8080/",
          "height": 510
        },
        "outputId": "3550c7a8-c424-4ce0-bee4-c606ea8491e9"
      },
      "source": [
        "import statsmodels.api as sm\n",
        "#Unlike SKLearn, statsmodels don't automatically fit a constant, \n",
        "#so you need to use the method sm.add_constant(X) in order to add a constant. \n",
        "X = sm.add_constant(X)\n",
        "# create a fitted model in one line\n",
        "lm_6 = sm.OLS(y,X).fit()\n",
        "print(lm_6.summary())"
      ],
      "execution_count": 88,
      "outputs": [
        {
          "output_type": "stream",
          "text": [
            "                            OLS Regression Results                            \n",
            "==============================================================================\n",
            "Dep. Variable:             Views_show   R-squared:                       0.371\n",
            "Model:                            OLS   Adj. R-squared:                  0.355\n",
            "Method:                 Least Squares   F-statistic:                     22.70\n",
            "Date:                Thu, 06 Aug 2020   Prob (F-statistic):           1.78e-08\n",
            "Time:                        10:05:25   Log-Likelihood:                -1050.5\n",
            "No. Observations:                  80   AIC:                             2107.\n",
            "Df Residuals:                      77   BIC:                             2114.\n",
            "Df Model:                           2                                         \n",
            "Covariance Type:            nonrobust                                         \n",
            "===============================================================================\n",
            "                  coef    std err          t      P>|t|      [0.025      0.975]\n",
            "-------------------------------------------------------------------------------\n",
            "const       -2.795e+05   1.05e+05     -2.672      0.009   -4.88e+05   -7.12e+04\n",
            "weekend      7.489e-05   2.85e-05      2.623      0.010     1.8e-05       0.000\n",
            "Character_A  9.475e+04   2.95e+04      3.213      0.002     3.6e+04    1.53e+05\n",
            "Visitors        0.3142      0.062      5.056      0.000       0.190       0.438\n",
            "==============================================================================\n",
            "Omnibus:                        5.028   Durbin-Watson:                   1.074\n",
            "Prob(Omnibus):                  0.081   Jarque-Bera (JB):                5.024\n",
            "Skew:                           0.579   Prob(JB):                       0.0811\n",
            "Kurtosis:                       2.595   Cond. No.                     3.43e+17\n",
            "==============================================================================\n",
            "\n",
            "Warnings:\n",
            "[1] Standard Errors assume that the covariance matrix of the errors is correctly specified.\n",
            "[2] The smallest eigenvalue is  2e-21. This might indicate that there are\n",
            "strong multicollinearity problems or that the design matrix is singular.\n"
          ],
          "name": "stdout"
        }
      ]
    },
    {
      "cell_type": "markdown",
      "metadata": {
        "id": "_s5xkDMkI8J4",
        "colab_type": "text"
      },
      "source": [
        "#### Running seventh model (lm7) Character_A, weekend, Visitors & Ad_impressions"
      ]
    },
    {
      "cell_type": "code",
      "metadata": {
        "id": "6KIQL9CXI8J5",
        "colab_type": "code",
        "colab": {}
      },
      "source": [
        "# Putting feature variable to X\n",
        "X = media[['weekend','Character_A','Visitors','Ad_impression']]\n",
        "\n",
        "# Putting response variable to y\n",
        "y = media['Views_show']"
      ],
      "execution_count": 89,
      "outputs": []
    },
    {
      "cell_type": "code",
      "metadata": {
        "id": "JB6mBBvtI8J7",
        "colab_type": "code",
        "colab": {
          "base_uri": "https://localhost:8080/",
          "height": 527
        },
        "outputId": "1d51084c-9447-4c0b-d4b8-7ed71f02dbff"
      },
      "source": [
        "import statsmodels.api as sm\n",
        "#Unlike SKLearn, statsmodels don't automatically fit a constant, \n",
        "#so you need to use the method sm.add_constant(X) in order to add a constant. \n",
        "X = sm.add_constant(X)\n",
        "# create a fitted model in one line\n",
        "lm_7 = sm.OLS(y,X).fit()\n",
        "print(lm_7.summary())"
      ],
      "execution_count": 90,
      "outputs": [
        {
          "output_type": "stream",
          "text": [
            "                            OLS Regression Results                            \n",
            "==============================================================================\n",
            "Dep. Variable:             Views_show   R-squared:                       0.663\n",
            "Model:                            OLS   Adj. R-squared:                  0.650\n",
            "Method:                 Least Squares   F-statistic:                     49.86\n",
            "Date:                Thu, 06 Aug 2020   Prob (F-statistic):           6.41e-18\n",
            "Time:                        10:05:35   Log-Likelihood:                -1025.6\n",
            "No. Observations:                  80   AIC:                             2059.\n",
            "Df Residuals:                      76   BIC:                             2069.\n",
            "Df Model:                           3                                         \n",
            "Covariance Type:            nonrobust                                         \n",
            "=================================================================================\n",
            "                    coef    std err          t      P>|t|      [0.025      0.975]\n",
            "---------------------------------------------------------------------------------\n",
            "const         -5.013e+05   8.18e+04     -6.131      0.000   -6.64e+05   -3.38e+05\n",
            "weekend           0.0327      0.005      6.098      0.000       0.022       0.043\n",
            "Character_A   -4.759e+04   2.79e+04     -1.705      0.092   -1.03e+05    8010.104\n",
            "Visitors          0.1274      0.051      2.486      0.015       0.025       0.229\n",
            "Ad_impression     0.0004   5.06e-05      8.118      0.000       0.000       0.001\n",
            "==============================================================================\n",
            "Omnibus:                        6.299   Durbin-Watson:                   0.751\n",
            "Prob(Omnibus):                  0.043   Jarque-Bera (JB):                6.497\n",
            "Skew:                           0.680   Prob(JB):                       0.0388\n",
            "Kurtosis:                       2.685   Cond. No.                     8.81e+17\n",
            "==============================================================================\n",
            "\n",
            "Warnings:\n",
            "[1] Standard Errors assume that the covariance matrix of the errors is correctly specified.\n",
            "[2] The smallest eigenvalue is 2.24e-16. This might indicate that there are\n",
            "strong multicollinearity problems or that the design matrix is singular.\n"
          ],
          "name": "stdout"
        }
      ]
    },
    {
      "cell_type": "markdown",
      "metadata": {
        "id": "h8P89SR5I8J_",
        "colab_type": "text"
      },
      "source": [
        "#### Running eight model (lm8) Character_A, weekend & Ad_impressions"
      ]
    },
    {
      "cell_type": "code",
      "metadata": {
        "id": "DMiHR_eUI8KA",
        "colab_type": "code",
        "colab": {}
      },
      "source": [
        "# Putting feature variable to X\n",
        "X = media[['weekend','Character_A','Ad_impression']]\n",
        "\n",
        "# Putting response variable to y\n",
        "y = media['Views_show']"
      ],
      "execution_count": 91,
      "outputs": []
    },
    {
      "cell_type": "code",
      "metadata": {
        "id": "wlTKxzjFI8KE",
        "colab_type": "code",
        "colab": {
          "base_uri": "https://localhost:8080/",
          "height": 564
        },
        "outputId": "cd42aad7-774d-4927-a60d-bc069d274911"
      },
      "source": [
        "import statsmodels.api as sm\n",
        "#Unlike SKLearn, statsmodels don't automatically fit a constant, \n",
        "#so you need to use the method sm.add_constant(X) in order to add a constant. \n",
        "X = sm.add_constant(X)\n",
        "# create a fitted model in one line\n",
        "lm_8 = sm.OLS(y,X).fit()\n",
        "print(lm_8.summary())"
      ],
      "execution_count": 92,
      "outputs": [
        {
          "output_type": "stream",
          "text": [
            "                            OLS Regression Results                            \n",
            "==============================================================================\n",
            "Dep. Variable:             Views_show   R-squared:                       0.636\n",
            "Model:                            OLS   Adj. R-squared:                  0.626\n",
            "Method:                 Least Squares   F-statistic:                     67.18\n",
            "Date:                Thu, 06 Aug 2020   Prob (F-statistic):           1.31e-17\n",
            "Time:                        10:05:43   Log-Likelihood:                -1028.7\n",
            "No. Observations:                  80   AIC:                             2063.\n",
            "Df Residuals:                      77   BIC:                             2071.\n",
            "Df Model:                           2                                         \n",
            "Covariance Type:            nonrobust                                         \n",
            "=================================================================================\n",
            "                    coef    std err          t      P>|t|      [0.025      0.975]\n",
            "---------------------------------------------------------------------------------\n",
            "const         -3.631e+05   6.19e+04     -5.862      0.000   -4.86e+05    -2.4e+05\n",
            "weekend       -1.466e-05   7.44e-06     -1.972      0.052   -2.95e-05    1.45e-07\n",
            "Character_A    -5.64e+04   2.86e+04     -1.972      0.052   -1.13e+05     558.155\n",
            "Ad_impression     0.0005   4.67e-05     10.005      0.000       0.000       0.001\n",
            "==============================================================================\n",
            "Omnibus:                        8.071   Durbin-Watson:                   0.831\n",
            "Prob(Omnibus):                  0.018   Jarque-Bera (JB):                7.875\n",
            "Skew:                           0.759   Prob(JB):                       0.0195\n",
            "Kurtosis:                       3.242   Cond. No.                          inf\n",
            "==============================================================================\n",
            "\n",
            "Warnings:\n",
            "[1] Standard Errors assume that the covariance matrix of the errors is correctly specified.\n",
            "[2] The smallest eigenvalue is      0. This might indicate that there are\n",
            "strong multicollinearity problems or that the design matrix is singular.\n"
          ],
          "name": "stdout"
        },
        {
          "output_type": "stream",
          "text": [
            "/usr/local/lib/python3.6/dist-packages/statsmodels/regression/linear_model.py:1755: RuntimeWarning: divide by zero encountered in double_scalars\n",
            "  return np.sqrt(eigvals[0]/eigvals[-1])\n"
          ],
          "name": "stderr"
        }
      ]
    },
    {
      "cell_type": "code",
      "metadata": {
        "id": "82p6qjeBI8KH",
        "colab_type": "code",
        "colab": {}
      },
      "source": [
        "#Ad impression in million\n",
        "media['ad_impression_million'] = media['Ad_impression']/1000000"
      ],
      "execution_count": 93,
      "outputs": []
    },
    {
      "cell_type": "markdown",
      "metadata": {
        "id": "OkejIfMcI8KL",
        "colab_type": "text"
      },
      "source": [
        "#### Running seventh model (lm7) Character_A, weekend, Visitors, ad_impressions_million & Cricket_match_india"
      ]
    },
    {
      "cell_type": "code",
      "metadata": {
        "id": "xaoD8MiFI8KL",
        "colab_type": "code",
        "colab": {}
      },
      "source": [
        "# Putting feature variable to X\n",
        "X = media[['weekend','Character_A','ad_impression_million','Cricket_match_india']]\n",
        "\n",
        "# Putting response variable to y\n",
        "y = media['Views_show']"
      ],
      "execution_count": 94,
      "outputs": []
    },
    {
      "cell_type": "code",
      "metadata": {
        "id": "26AggnInI8KS",
        "colab_type": "code",
        "colab": {
          "base_uri": "https://localhost:8080/",
          "height": 527
        },
        "outputId": "5c555fad-7d06-4055-e18d-e0e986755d7e"
      },
      "source": [
        "import statsmodels.api as sm\n",
        "#Unlike SKLearn, statsmodels don't automatically fit a constant, \n",
        "#so you need to use the method sm.add_constant(X) in order to add a constant. \n",
        "X = sm.add_constant(X)\n",
        "# create a fitted model in one line\n",
        "lm_9 = sm.OLS(y,X).fit()\n",
        "print(lm_9.summary())"
      ],
      "execution_count": 96,
      "outputs": [
        {
          "output_type": "stream",
          "text": [
            "                            OLS Regression Results                            \n",
            "==============================================================================\n",
            "Dep. Variable:             Views_show   R-squared:                       0.636\n",
            "Model:                            OLS   Adj. R-squared:                  0.622\n",
            "Method:                 Least Squares   F-statistic:                     44.27\n",
            "Date:                Thu, 06 Aug 2020   Prob (F-statistic):           1.18e-16\n",
            "Time:                        10:06:06   Log-Likelihood:                -1028.6\n",
            "No. Observations:                  80   AIC:                             2065.\n",
            "Df Residuals:                      76   BIC:                             2075.\n",
            "Df Model:                           3                                         \n",
            "Covariance Type:            nonrobust                                         \n",
            "=========================================================================================\n",
            "                            coef    std err          t      P>|t|      [0.025      0.975]\n",
            "-----------------------------------------------------------------------------------------\n",
            "const                 -3.646e+05   6.26e+04     -5.828      0.000   -4.89e+05    -2.4e+05\n",
            "weekend               -1.451e-07   2.47e-08     -5.879      0.000   -1.94e-07   -9.59e-08\n",
            "Character_A           -5.475e+04   2.94e+04     -1.863      0.066   -1.13e+05    3776.107\n",
            "ad_impression_million   467.3244     46.995      9.944      0.000     373.726     560.923\n",
            "Cricket_match_india    1.022e+04   3.68e+04      0.278      0.782    -6.3e+04    8.34e+04\n",
            "==============================================================================\n",
            "Omnibus:                        7.643   Durbin-Watson:                   0.829\n",
            "Prob(Omnibus):                  0.022   Jarque-Bera (JB):                7.433\n",
            "Skew:                           0.740   Prob(JB):                       0.0243\n",
            "Kurtosis:                       3.197   Cond. No.                     3.97e+17\n",
            "==============================================================================\n",
            "\n",
            "Warnings:\n",
            "[1] Standard Errors assume that the covariance matrix of the errors is correctly specified.\n",
            "[2] The smallest eigenvalue is 1.1e-27. This might indicate that there are\n",
            "strong multicollinearity problems or that the design matrix is singular.\n"
          ],
          "name": "stdout"
        }
      ]
    },
    {
      "cell_type": "markdown",
      "metadata": {
        "id": "nQfdbrEaI8KX",
        "colab_type": "text"
      },
      "source": [
        "#### Running seventh model (lm7) Character_A, weekend & ad_impressions_million"
      ]
    },
    {
      "cell_type": "code",
      "metadata": {
        "id": "Xh0awrkmI8KY",
        "colab_type": "code",
        "colab": {}
      },
      "source": [
        "# Putting feature variable to X\n",
        "X = media[['weekend','Character_A','ad_impression_million']]\n",
        "\n",
        "# Putting response variable to y\n",
        "y = media['Views_show']"
      ],
      "execution_count": 98,
      "outputs": []
    },
    {
      "cell_type": "code",
      "metadata": {
        "id": "IrEylfNyI8Kd",
        "colab_type": "code",
        "colab": {
          "base_uri": "https://localhost:8080/",
          "height": 510
        },
        "outputId": "7c9fc4ee-a750-4598-b751-4e97ab5f995f"
      },
      "source": [
        "import statsmodels.api as sm\n",
        "#Unlike SKLearn, statsmodels don't automatically fit a constant, \n",
        "#so you need to use the method sm.add_constant(X) in order to add a constant. \n",
        "X = sm.add_constant(X)\n",
        "# create a fitted model in one line\n",
        "lm_10 = sm.OLS(y,X).fit()\n",
        "print(lm_10.summary())"
      ],
      "execution_count": 100,
      "outputs": [
        {
          "output_type": "stream",
          "text": [
            "                            OLS Regression Results                            \n",
            "==============================================================================\n",
            "Dep. Variable:             Views_show   R-squared:                       0.636\n",
            "Model:                            OLS   Adj. R-squared:                  0.626\n",
            "Method:                 Least Squares   F-statistic:                     67.18\n",
            "Date:                Thu, 06 Aug 2020   Prob (F-statistic):           1.31e-17\n",
            "Time:                        10:06:25   Log-Likelihood:                -1028.7\n",
            "No. Observations:                  80   AIC:                             2063.\n",
            "Df Residuals:                      77   BIC:                             2071.\n",
            "Df Model:                           2                                         \n",
            "Covariance Type:            nonrobust                                         \n",
            "=========================================================================================\n",
            "                            coef    std err          t      P>|t|      [0.025      0.975]\n",
            "-----------------------------------------------------------------------------------------\n",
            "const                 -3.631e+05   6.19e+04     -5.862      0.000   -4.86e+05    -2.4e+05\n",
            "weekend               -6.451e-09   1.53e-09     -4.223      0.000   -9.49e-09   -3.41e-09\n",
            "Character_A            -5.64e+04   2.86e+04     -1.972      0.052   -1.13e+05     558.155\n",
            "ad_impression_million   467.3675     46.712     10.005      0.000     374.352     560.383\n",
            "==============================================================================\n",
            "Omnibus:                        8.071   Durbin-Watson:                   0.831\n",
            "Prob(Omnibus):                  0.018   Jarque-Bera (JB):                7.875\n",
            "Skew:                           0.759   Prob(JB):                       0.0195\n",
            "Kurtosis:                       3.242   Cond. No.                     2.09e+17\n",
            "==============================================================================\n",
            "\n",
            "Warnings:\n",
            "[1] Standard Errors assume that the covariance matrix of the errors is correctly specified.\n",
            "[2] The smallest eigenvalue is 3.98e-27. This might indicate that there are\n",
            "strong multicollinearity problems or that the design matrix is singular.\n"
          ],
          "name": "stdout"
        }
      ]
    },
    {
      "cell_type": "markdown",
      "metadata": {
        "id": "8j7jvze7I8Kh",
        "colab_type": "text"
      },
      "source": [
        "#### Making predictions using lm10"
      ]
    },
    {
      "cell_type": "code",
      "metadata": {
        "id": "NUFVC5-UI8Kh",
        "colab_type": "code",
        "colab": {}
      },
      "source": [
        "# Making predictions using the model\n",
        "X = media[['weekend','Character_A','ad_impression_million']]\n",
        "X = sm.add_constant(X)\n",
        "Predicted_views = lm_10.predict(X)"
      ],
      "execution_count": 101,
      "outputs": []
    },
    {
      "cell_type": "code",
      "metadata": {
        "id": "FJxEnYCaI8Ko",
        "colab_type": "code",
        "colab": {}
      },
      "source": [
        "from sklearn.metrics import mean_squared_error, r2_score\n",
        "mse = mean_squared_error(media.Views_show, Predicted_views)\n",
        "r_squared = r2_score(media.Views_show, Predicted_views)"
      ],
      "execution_count": 102,
      "outputs": []
    },
    {
      "cell_type": "code",
      "metadata": {
        "id": "hMGjMVKBI8Ks",
        "colab_type": "code",
        "colab": {
          "base_uri": "https://localhost:8080/",
          "height": 51
        },
        "outputId": "1ffe51c3-b182-49cb-cae7-fae60445862e"
      },
      "source": [
        "print('Mean_Squared_Error :' ,mse)\n",
        "print('r_square_value :',r_squared)"
      ],
      "execution_count": 103,
      "outputs": [
        {
          "output_type": "stream",
          "text": [
            "Mean_Squared_Error : 8635014983.870035\n",
            "r_square_value : 0.6356768452724489\n"
          ],
          "name": "stdout"
        }
      ]
    },
    {
      "cell_type": "code",
      "metadata": {
        "id": "UKxUzgFqI8Kw",
        "colab_type": "code",
        "colab": {
          "base_uri": "https://localhost:8080/",
          "height": 333
        },
        "outputId": "c4ba58e2-f5fa-4154-c457-06367f8b0caf"
      },
      "source": [
        "#Actual vs Predicted\n",
        "c = [i for i in range(1,81,1)]\n",
        "fig = plt.figure()\n",
        "plt.plot(c,media.Views_show, color=\"blue\", linewidth=2.5, linestyle=\"-\")\n",
        "plt.plot(c,Predicted_views, color=\"red\",  linewidth=2.5, linestyle=\"-\")\n",
        "fig.suptitle('Actual and Predicted', fontsize=20)              # Plot heading \n",
        "plt.xlabel('Index', fontsize=18)                               # X-label\n",
        "plt.ylabel('Views', fontsize=16)                               # Y-label"
      ],
      "execution_count": 104,
      "outputs": [
        {
          "output_type": "execute_result",
          "data": {
            "text/plain": [
              "Text(0, 0.5, 'Views')"
            ]
          },
          "metadata": {
            "tags": []
          },
          "execution_count": 104
        },
        {
          "output_type": "display_data",
          "data": {
            "image/png": "[encoded data removed]",
            "text/plain": [
              "<Figure size 432x288 with 1 Axes>"
            ]
          },
          "metadata": {
            "tags": [],
            "needs_background": "light"
          }
        }
      ]
    },
    {
      "cell_type": "code",
      "metadata": {
        "id": "OB9k3neII8Kz",
        "colab_type": "code",
        "colab": {
          "base_uri": "https://localhost:8080/",
          "height": 333
        },
        "outputId": "e7ccd201-98f8-42f8-9eb3-5f92dd7e04a0"
      },
      "source": [
        "# Error terms\n",
        "c = [i for i in range(1,81,1)]\n",
        "fig = plt.figure()\n",
        "plt.plot(c,media.Views_show-Predicted_views, color=\"blue\", linewidth=2.5, linestyle=\"-\")\n",
        "fig.suptitle('Error Terms', fontsize=20)              # Plot heading \n",
        "plt.xlabel('Index', fontsize=18)                      # X-label\n",
        "plt.ylabel('Views_show-Predicted_views', fontsize=16)                # Y-label"
      ],
      "execution_count": 105,
      "outputs": [
        {
          "output_type": "execute_result",
          "data": {
            "text/plain": [
              "Text(0, 0.5, 'Views_show-Predicted_views')"
            ]
          },
          "metadata": {
            "tags": []
          },
          "execution_count": 105
        },
        {
          "output_type": "display_data",
          "data": {
            "image/png": "[encoded data removed]",
            "text/plain": [
              "<Figure size 432x288 with 1 Axes>"
            ]
          },
          "metadata": {
            "tags": [],
            "needs_background": "light"
          }
        }
      ]
    },
    {
      "cell_type": "markdown",
      "metadata": {
        "id": "RrZhie_0I8K2",
        "colab_type": "text"
      },
      "source": [
        "#### Making predictions using lm6"
      ]
    },
    {
      "cell_type": "code",
      "metadata": {
        "id": "V6YliNUcI8K4",
        "colab_type": "code",
        "colab": {}
      },
      "source": [
        "# Making predictions using the model\n",
        "X = media[['weekend','Character_A','Visitors']]\n",
        "X = sm.add_constant(X)\n",
        "Predicted_views = lm_6.predict(X)"
      ],
      "execution_count": 106,
      "outputs": []
    },
    {
      "cell_type": "code",
      "metadata": {
        "id": "_kFZKcfTI8K-",
        "colab_type": "code",
        "colab": {}
      },
      "source": [
        "from sklearn.metrics import mean_squared_error, r2_score\n",
        "mse = mean_squared_error(media.Views_show, Predicted_views)\n",
        "r_squared = r2_score(media.Views_show, Predicted_views)"
      ],
      "execution_count": 107,
      "outputs": []
    },
    {
      "cell_type": "code",
      "metadata": {
        "id": "whi4xKiVI8LB",
        "colab_type": "code",
        "colab": {
          "base_uri": "https://localhost:8080/",
          "height": 51
        },
        "outputId": "9cdbe9d7-4613-44d5-e376-9bbf6f0bb0c8"
      },
      "source": [
        "print('Mean_Squared_Error :' ,mse)\n",
        "print('r_square_value :',r_squared)"
      ],
      "execution_count": 108,
      "outputs": [
        {
          "output_type": "stream",
          "text": [
            "Mean_Squared_Error : 14910928178.389465\n",
            "r_square_value : 0.3708874386420463\n"
          ],
          "name": "stdout"
        }
      ]
    },
    {
      "cell_type": "code",
      "metadata": {
        "id": "1njpv687I8LI",
        "colab_type": "code",
        "colab": {
          "base_uri": "https://localhost:8080/",
          "height": 333
        },
        "outputId": "d4bcff48-87bf-4f5a-fbd2-aa748fab2f16"
      },
      "source": [
        "#Actual vs Predicted\n",
        "c = [i for i in range(1,81,1)]\n",
        "fig = plt.figure()\n",
        "plt.plot(c,media.Views_show, color=\"blue\", linewidth=2.5, linestyle=\"-\")\n",
        "plt.plot(c,Predicted_views, color=\"red\",  linewidth=2.5, linestyle=\"-\")\n",
        "fig.suptitle('Actual and Predicted', fontsize=20)              # Plot heading \n",
        "plt.xlabel('Index', fontsize=18)                               # X-label\n",
        "plt.ylabel('Views', fontsize=16)                               # Y-label"
      ],
      "execution_count": 109,
      "outputs": [
        {
          "output_type": "execute_result",
          "data": {
            "text/plain": [
              "Text(0, 0.5, 'Views')"
            ]
          },
          "metadata": {
            "tags": []
          },
          "execution_count": 109
        },
        {
          "output_type": "display_data",
          "data": {
            "image/png": "[encoded data removed]",
            "text/plain": [
              "<Figure size 432x288 with 1 Axes>"
            ]
          },
          "metadata": {
            "tags": [],
            "needs_background": "light"
          }
        }
      ]
    },
    {
      "cell_type": "code",
      "metadata": {
        "id": "12Dqb5KxI8LM",
        "colab_type": "code",
        "colab": {
          "base_uri": "https://localhost:8080/",
          "height": 333
        },
        "outputId": "1b31a8c4-b9de-4a33-9f5b-9f15302fb2f9"
      },
      "source": [
        "# Error terms\n",
        "c = [i for i in range(1,81,1)]\n",
        "fig = plt.figure()\n",
        "plt.plot(c,media.Views_show-Predicted_views, color=\"blue\", linewidth=2.5, linestyle=\"-\")\n",
        "fig.suptitle('Error Terms', fontsize=20)              # Plot heading \n",
        "plt.xlabel('Index', fontsize=18)                      # X-label\n",
        "plt.ylabel('Views_show-Predicted_views', fontsize=16)                # Y-label"
      ],
      "execution_count": 111,
      "outputs": [
        {
          "output_type": "execute_result",
          "data": {
            "text/plain": [
              "Text(0, 0.5, 'Views_show-Predicted_views')"
            ]
          },
          "metadata": {
            "tags": []
          },
          "execution_count": 111
        },
        {
          "output_type": "display_data",
          "data": {
            "image/png": "[encoded data removed]",
            "text/plain": [
              "<Figure size 432x288 with 1 Axes>"
            ]
          },
          "metadata": {
            "tags": [],
            "needs_background": "light"
          }
        }
      ]
    }
  ]
}